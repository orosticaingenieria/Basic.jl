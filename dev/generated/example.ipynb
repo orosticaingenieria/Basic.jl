{
 "cells": [
  {
   "cell_type": "markdown",
   "source": [
    "# **8.** Example"
   ],
   "metadata": {
    "name": "A slide ",
    "slideshow": {
     "slide_type": "slide"
    }
   }
  },
  {
   "cell_type": "markdown",
   "source": [
    "This is an example generated with Literate based on this\n",
    "source file: [`example.jl`](https://github.com/orosticaingenieria/Basic.jl/blob/master/examples/example.jl).\n",
    "You are seeing the\n",
    "generated notebook output. The corresponding markdown (HTML) output\n",
    "can be found here: [`example.html`](https://fredrikekre.github.io/Literate.jl/dev/generated/example.html),\n",
    "and the plain script output can be found here: [`example.jl`](./example.jl)."
   ],
   "metadata": {
    "name": "A slide ",
    "slideshow": {
     "slide_type": "slide"
    }
   }
  },
  {
   "cell_type": "markdown",
   "source": [
    "To view this notebook as a slideshow, install the [RISE plugin](https://rise.readthedocs.io/en/stable/installation.html)\n",
    "and press `alt-r` to start. Use spacebar to advance."
   ],
   "metadata": {
    "name": "A slide ",
    "slideshow": {
     "slide_type": "fragment"
    }
   }
  },
  {
   "cell_type": "markdown",
   "source": [
    "It is recommended to have the [source file](https://github.com/orosticaingenieria/Basic.jl/blob/master/examples/example.jl)\n",
    "available when reading this, to better understand how the syntax in the source file\n",
    "corresponds to the output you are seeing."
   ],
   "metadata": {
    "name": "A slide ",
    "slideshow": {
     "slide_type": "fragment"
    }
   }
  },
  {
   "cell_type": "markdown",
   "source": [
    "### Basic syntax\n",
    "The basic syntax for Literate is simple, lines starting with `# ` is interpreted\n",
    "as markdown, and all the other lines are interpreted as code. Here is some code:"
   ],
   "metadata": {
    "name": "A slide ",
    "slideshow": {
     "slide_type": "slide"
    }
   }
  },
  {
   "outputs": [],
   "cell_type": "code",
   "source": [
    "x = 1//3\n",
    "y = 2//5"
   ],
   "metadata": {
    "name": "A slide ",
    "slideshow": {
     "slide_type": "fragment"
    }
   },
   "execution_count": null
  },
  {
   "cell_type": "markdown",
   "source": [
    "In markdown sections we can use markdown syntax. For example, we can\n",
    "write *text in italic font*, **text in bold font** and use\n",
    "[links](https://www.youtube.com/watch?v=dQw4w9WgXcQ)."
   ],
   "metadata": {
    "name": "A slide ",
    "slideshow": {
     "slide_type": "subslide"
    }
   }
  },
  {
   "cell_type": "markdown",
   "source": [
    "It is possible to filter out lines depending on the output using the\n",
    "`#md`, `#nb`, `#jl` and `#src` tags (see Filtering lines):\n",
    "- This line starts with `#nb` and is thus only visible in the notebook output."
   ],
   "metadata": {
    "name": "A slide ",
    "slideshow": {
     "slide_type": "fragment"
    }
   }
  },
  {
   "cell_type": "markdown",
   "source": [
    "The source file is parsed in chunks of markdown and code. Starting a line\n",
    "with `#-` manually inserts a chunk break. For example, if we want to\n",
    "display the output of the following operations we may insert `#-` in\n",
    "between. These two code blocks will now end up in different\n",
    "`@example`-blocks in the markdown output, and two different notebook cells\n",
    "in the notebook output."
   ],
   "metadata": {
    "name": "A slide ",
    "slideshow": {
     "slide_type": "subslide"
    }
   }
  },
  {
   "outputs": [],
   "cell_type": "code",
   "source": [
    "x + y"
   ],
   "metadata": {
    "name": "A slide ",
    "slideshow": {
     "slide_type": "subslide"
    }
   },
   "execution_count": null
  },
  {
   "outputs": [],
   "cell_type": "code",
   "source": [
    "x * y"
   ],
   "metadata": {
    "name": "A slide ",
    "slideshow": {
     "slide_type": "fragment"
    }
   },
   "execution_count": null
  },
  {
   "cell_type": "markdown",
   "source": [
    "### Output capturing\n",
    "Code chunks are by default placed in Documenter `@example` blocks in the generated\n",
    "markdown. This means that the output will be captured in a block when Documenter is\n",
    "building the docs. In notebooks the output is captured in output cells, if the\n",
    "`execute` keyword argument is set to true. Output to `stdout`/`stderr` is also\n",
    "captured."
   ],
   "metadata": {
    "name": "A slide ",
    "slideshow": {
     "slide_type": "slide"
    }
   }
  },
  {
   "outputs": [],
   "cell_type": "code",
   "source": [
    "function foo()\n",
    "    println(\"This string is printed to stdout.\")\n",
    "    return [1, 2, 3, 4]\n",
    "end\n",
    "\n",
    "foo()"
   ],
   "metadata": {
    "name": "A slide ",
    "slideshow": {
     "slide_type": "subslide"
    }
   },
   "execution_count": null
  },
  {
   "cell_type": "markdown",
   "source": [
    "Just like in the REPL, outputs ending with a semicolon hides the output:"
   ],
   "metadata": {}
  },
  {
   "outputs": [],
   "cell_type": "code",
   "source": [
    "1 + 1;"
   ],
   "metadata": {},
   "execution_count": null
  },
  {
   "cell_type": "markdown",
   "source": [
    "Both Documenter's `@example` block and notebooks can display images. Here is an example\n",
    "where we generate a simple plot using the\n",
    "[Plots.jl](https://github.com/JuliaPlots/Plots.jl) package"
   ],
   "metadata": {
    "name": "A slide ",
    "slideshow": {
     "slide_type": "subslide"
    }
   }
  },
  {
   "outputs": [],
   "cell_type": "code",
   "source": [
    "using Plots\n",
    "x = range(0, stop=6π, length=1000)\n",
    "y1 = sin.(x)\n",
    "y2 = cos.(x)\n",
    "plot(x, [y1, y2])"
   ],
   "metadata": {
    "name": "A slide ",
    "slideshow": {
     "slide_type": "subslide"
    }
   },
   "execution_count": null
  },
  {
   "cell_type": "markdown",
   "source": [
    "### Custom processing\n",
    "\n",
    "It is possible to give Literate custom pre- and post-processing functions.\n",
    "For example, here we insert a placeholder value `x = 123` in the source, and use a\n",
    "preprocessing function that replaces it with `y = 321` in the rendered output."
   ],
   "metadata": {
    "name": "A slide ",
    "slideshow": {
     "slide_type": "slide"
    }
   }
  },
  {
   "outputs": [],
   "cell_type": "code",
   "source": [
    "x = 123"
   ],
   "metadata": {
    "name": "A slide ",
    "slideshow": {
     "slide_type": "subslide"
    }
   },
   "execution_count": null
  },
  {
   "cell_type": "markdown",
   "source": [
    "In this case the preprocessing function is defined by"
   ],
   "metadata": {
    "name": "A slide ",
    "slideshow": {
     "slide_type": "fragment"
    }
   }
  },
  {
   "outputs": [],
   "cell_type": "code",
   "source": [
    "function pre(s::String)\n",
    "    s = replace(s, \"x = 123\" => \"y = 321\")\n",
    "    return s\n",
    "end"
   ],
   "metadata": {
    "name": "A slide ",
    "slideshow": {
     "slide_type": "fragment"
    }
   },
   "execution_count": null
  },
  {
   "cell_type": "markdown",
   "source": [
    "### Documenter.jl interaction\n",
    "\n",
    "In the source file it is possible to use Documenter.jl style references,\n",
    "such as `@ref` and `@id`. These will be filtered out in the notebook output.\n",
    "For example, here is a link, but it is only\n",
    "visible as a link if you are reading the markdown output. We can also\n",
    "use equations:"
   ],
   "metadata": {
    "name": "A slide ",
    "slideshow": {
     "slide_type": "slide"
    }
   }
  },
  {
   "cell_type": "markdown",
   "source": [
    "$$\n",
    "\\int_\\Omega \\nabla v \\cdot \\nabla u\\ \\mathrm{d}\\Omega = \\int_\\Omega v f\\ \\mathrm{d}\\Omega\n",
    "$$"
   ],
   "metadata": {
    "name": "A slide ",
    "slideshow": {
     "slide_type": "fragment"
    }
   }
  },
  {
   "cell_type": "markdown",
   "source": [
    "using Documenters math syntax. Documenters syntax is automatically changed to\n",
    "`\\begin{equation} ... \\end{equation}` in the notebook output to display correctly."
   ],
   "metadata": {
    "name": "A slide ",
    "slideshow": {
     "slide_type": "fragment"
    }
   }
  },
  {
   "cell_type": "markdown",
   "source": [
    "---\n",
    "\n",
    "*This notebook was generated using [Literate.jl](https://github.com/fredrikekre/Literate.jl).*"
   ],
   "metadata": {}
  }
 ],
 "nbformat_minor": 3,
 "metadata": {
  "language_info": {
   "file_extension": ".jl",
   "mimetype": "application/julia",
   "name": "julia",
   "version": "1.8.3"
  },
  "kernelspec": {
   "name": "julia-1.8",
   "display_name": "Julia 1.8.3",
   "language": "julia"
  }
 },
 "nbformat": 4
}
